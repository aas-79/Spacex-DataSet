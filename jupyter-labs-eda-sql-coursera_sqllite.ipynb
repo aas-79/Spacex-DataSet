{
 "cells": [
  {
   "cell_type": "markdown",
   "metadata": {},
   "source": [
    "<p style=\"text-align:center\">\n",
    "    <a href=\"https://skills.network\" target=\"_blank\">\n",
    "    <img src=\"https://cf-courses-data.s3.us.cloud-object-storage.appdomain.cloud/assets/logos/SN_web_lightmode.png\" width=\"200\" alt=\"Skills Network Logo\">\n",
    "    </a>\n",
    "</p>\n",
    "\n",
    "<h1 align=center><font size = 5>Assignment: SQL Notebook for Peer Assignment</font></h1>\n",
    "\n",
    "Estimated time needed: **60** minutes.\n",
    "\n",
    "## Introduction\n",
    "Using this Python notebook you will:\n",
    "\n",
    "1.  Understand the Spacex DataSet\n",
    "2.  Load the dataset  into the corresponding table in a Db2 database\n",
    "3.  Execute SQL queries to answer assignment questions \n"
   ]
  },
  {
   "cell_type": "markdown",
   "metadata": {},
   "source": [
    "## Overview of the DataSet\n",
    "\n",
    "SpaceX has gained worldwide attention for a series of historic milestones. \n",
    "\n",
    "It is the only private company ever to return a spacecraft from low-earth orbit, which it first accomplished in December 2010.\n",
    "SpaceX advertises Falcon 9 rocket launches on its website with a cost of 62 million dollars wheras other providers cost upward of 165 million dollars each, much of the savings is because Space X can reuse the first stage. \n",
    "\n",
    "\n",
    "Therefore if we can determine if the first stage will land, we can determine the cost of a launch. \n",
    "\n",
    "This information can be used if an alternate company wants to bid against SpaceX for a rocket launch.\n",
    "\n",
    "This dataset includes a record for each payload carried during a SpaceX mission into outer space.\n"
   ]
  },
  {
   "cell_type": "markdown",
   "metadata": {},
   "source": [
    "### Download the datasets\n",
    "\n",
    "This assignment requires you to load the spacex dataset.\n",
    "\n",
    "In many cases the dataset to be analyzed is available as a .CSV (comma separated values) file, perhaps on the internet. Click on the link below to download and save the dataset (.CSV file):\n",
    "\n",
    " <a href=\"https://cf-courses-data.s3.us.cloud-object-storage.appdomain.cloud/IBM-DS0321EN-SkillsNetwork/labs/module_2/data/Spacex.csv\" target=\"_blank\">Spacex DataSet</a>\n",
    "\n"
   ]
  },
  {
   "cell_type": "code",
   "execution_count": 1,
   "metadata": {},
   "outputs": [
    {
     "name": "stdout",
     "output_type": "stream",
     "text": [
      "Collecting sqlalchemy==1.3.9\n",
      "  Downloading SQLAlchemy-1.3.9.tar.gz (6.0 MB)\n",
      "\u001b[2K     \u001b[90m━━━━━━━━━━━━━━━━━━━━━━━━━━━━━━━━━━━━━━━━\u001b[0m \u001b[32m6.0/6.0 MB\u001b[0m \u001b[31m100.7 MB/s\u001b[0m eta \u001b[36m0:00:00\u001b[0ma \u001b[36m0:00:01\u001b[0m\n",
      "\u001b[?25h  Preparing metadata (setup.py) ... \u001b[?25ldone\n",
      "\u001b[?25hBuilding wheels for collected packages: sqlalchemy\n",
      "  Building wheel for sqlalchemy (setup.py) ... \u001b[?25ldone\n",
      "\u001b[?25h  Created wheel for sqlalchemy: filename=SQLAlchemy-1.3.9-cp311-cp311-linux_x86_64.whl size=1142923 sha256=8abbbabf6c2961601230d53e9f2c2b631612c55570baae964ed1ed6b3075bba9\n",
      "  Stored in directory: /home/jupyterlab/.cache/pip/wheels/3a/7c/1e/12404784a68083eb969f877a1808a1847bab897684b56ddc55\n",
      "Successfully built sqlalchemy\n",
      "Installing collected packages: sqlalchemy\n",
      "  Attempting uninstall: sqlalchemy\n",
      "    Found existing installation: SQLAlchemy 2.0.30\n",
      "    Uninstalling SQLAlchemy-2.0.30:\n",
      "      Successfully uninstalled SQLAlchemy-2.0.30\n",
      "\u001b[31mERROR: pip's dependency resolver does not currently take into account all the packages that are installed. This behaviour is the source of the following dependency conflicts.\n",
      "jupyterhub 4.1.5 requires SQLAlchemy>=1.4, but you have sqlalchemy 1.3.9 which is incompatible.\u001b[0m\u001b[31m\n",
      "\u001b[0mSuccessfully installed sqlalchemy-1.3.9\n"
     ]
    }
   ],
   "source": [
    "!pip install sqlalchemy==1.3.9\n"
   ]
  },
  {
   "cell_type": "markdown",
   "metadata": {},
   "source": [
    "### Connect to the database\n",
    "\n",
    "Let us first load the SQL extension and establish a connection with the database\n"
   ]
  },
  {
   "cell_type": "code",
   "execution_count": 2,
   "metadata": {},
   "outputs": [
    {
     "name": "stdout",
     "output_type": "stream",
     "text": [
      "Collecting ipython-sql\n",
      "  Downloading ipython_sql-0.5.0-py3-none-any.whl.metadata (17 kB)\n",
      "Collecting prettytable (from ipython-sql)\n",
      "  Downloading prettytable-3.11.0-py3-none-any.whl.metadata (30 kB)\n",
      "Requirement already satisfied: ipython in /opt/conda/lib/python3.11/site-packages (from ipython-sql) (8.22.2)\n",
      "Collecting sqlalchemy>=2.0 (from ipython-sql)\n",
      "  Downloading SQLAlchemy-2.0.36-cp311-cp311-manylinux_2_17_x86_64.manylinux2014_x86_64.whl.metadata (9.7 kB)\n",
      "Collecting sqlparse (from ipython-sql)\n",
      "  Downloading sqlparse-0.5.1-py3-none-any.whl.metadata (3.9 kB)\n",
      "Requirement already satisfied: six in /opt/conda/lib/python3.11/site-packages (from ipython-sql) (1.16.0)\n",
      "Requirement already satisfied: ipython-genutils in /opt/conda/lib/python3.11/site-packages (from ipython-sql) (0.2.0)\n",
      "Requirement already satisfied: typing-extensions>=4.6.0 in /opt/conda/lib/python3.11/site-packages (from sqlalchemy>=2.0->ipython-sql) (4.11.0)\n",
      "Requirement already satisfied: greenlet!=0.4.17 in /opt/conda/lib/python3.11/site-packages (from sqlalchemy>=2.0->ipython-sql) (3.0.3)\n",
      "Requirement already satisfied: decorator in /opt/conda/lib/python3.11/site-packages (from ipython->ipython-sql) (5.1.1)\n",
      "Requirement already satisfied: jedi>=0.16 in /opt/conda/lib/python3.11/site-packages (from ipython->ipython-sql) (0.19.1)\n",
      "Requirement already satisfied: matplotlib-inline in /opt/conda/lib/python3.11/site-packages (from ipython->ipython-sql) (0.1.7)\n",
      "Requirement already satisfied: prompt-toolkit<3.1.0,>=3.0.41 in /opt/conda/lib/python3.11/site-packages (from ipython->ipython-sql) (3.0.42)\n",
      "Requirement already satisfied: pygments>=2.4.0 in /opt/conda/lib/python3.11/site-packages (from ipython->ipython-sql) (2.18.0)\n",
      "Requirement already satisfied: stack-data in /opt/conda/lib/python3.11/site-packages (from ipython->ipython-sql) (0.6.2)\n",
      "Requirement already satisfied: traitlets>=5.13.0 in /opt/conda/lib/python3.11/site-packages (from ipython->ipython-sql) (5.14.3)\n",
      "Requirement already satisfied: pexpect>4.3 in /opt/conda/lib/python3.11/site-packages (from ipython->ipython-sql) (4.9.0)\n",
      "Requirement already satisfied: wcwidth in /opt/conda/lib/python3.11/site-packages (from prettytable->ipython-sql) (0.2.13)\n",
      "Requirement already satisfied: parso<0.9.0,>=0.8.3 in /opt/conda/lib/python3.11/site-packages (from jedi>=0.16->ipython->ipython-sql) (0.8.4)\n",
      "Requirement already satisfied: ptyprocess>=0.5 in /opt/conda/lib/python3.11/site-packages (from pexpect>4.3->ipython->ipython-sql) (0.7.0)\n",
      "Requirement already satisfied: executing>=1.2.0 in /opt/conda/lib/python3.11/site-packages (from stack-data->ipython->ipython-sql) (2.0.1)\n",
      "Requirement already satisfied: asttokens>=2.1.0 in /opt/conda/lib/python3.11/site-packages (from stack-data->ipython->ipython-sql) (2.4.1)\n",
      "Requirement already satisfied: pure-eval in /opt/conda/lib/python3.11/site-packages (from stack-data->ipython->ipython-sql) (0.2.2)\n",
      "Downloading ipython_sql-0.5.0-py3-none-any.whl (20 kB)\n",
      "Downloading SQLAlchemy-2.0.36-cp311-cp311-manylinux_2_17_x86_64.manylinux2014_x86_64.whl (3.2 MB)\n",
      "\u001b[2K   \u001b[90m━━━━━━━━━━━━━━━━━━━━━━━━━━━━━━━━━━━━━━━━\u001b[0m \u001b[32m3.2/3.2 MB\u001b[0m \u001b[31m87.2 MB/s\u001b[0m eta \u001b[36m0:00:00\u001b[0m:00:01\u001b[0m\n",
      "\u001b[?25hDownloading prettytable-3.11.0-py3-none-any.whl (28 kB)\n",
      "Downloading sqlparse-0.5.1-py3-none-any.whl (44 kB)\n",
      "\u001b[2K   \u001b[90m━━━━━━━━━━━━━━━━━━━━━━━━━━━━━━━━━━━━━━━━\u001b[0m \u001b[32m44.2/44.2 kB\u001b[0m \u001b[31m6.7 MB/s\u001b[0m eta \u001b[36m0:00:00\u001b[0m\n",
      "\u001b[?25hInstalling collected packages: sqlparse, sqlalchemy, prettytable, ipython-sql\n",
      "  Attempting uninstall: sqlalchemy\n",
      "    Found existing installation: SQLAlchemy 1.3.9\n",
      "    Uninstalling SQLAlchemy-1.3.9:\n",
      "      Successfully uninstalled SQLAlchemy-1.3.9\n",
      "Successfully installed ipython-sql-0.5.0 prettytable-3.11.0 sqlalchemy-2.0.36 sqlparse-0.5.1\n"
     ]
    }
   ],
   "source": [
    "!pip install ipython-sql"
   ]
  },
  {
   "cell_type": "code",
   "execution_count": 3,
   "metadata": {},
   "outputs": [],
   "source": [
    "%load_ext sql"
   ]
  },
  {
   "cell_type": "code",
   "execution_count": 4,
   "metadata": {},
   "outputs": [],
   "source": [
    "import csv, sqlite3\n",
    "\n",
    "con = sqlite3.connect(\"my_data1.db\")\n",
    "cur = con.cursor()"
   ]
  },
  {
   "cell_type": "code",
   "execution_count": 5,
   "metadata": {},
   "outputs": [],
   "source": [
    "!pip install -q pandas"
   ]
  },
  {
   "cell_type": "code",
   "execution_count": 6,
   "metadata": {},
   "outputs": [],
   "source": [
    "%sql sqlite:///my_data1.db"
   ]
  },
  {
   "cell_type": "code",
   "execution_count": 7,
   "metadata": {},
   "outputs": [
    {
     "data": {
      "text/plain": [
       "101"
      ]
     },
     "execution_count": 7,
     "metadata": {},
     "output_type": "execute_result"
    }
   ],
   "source": [
    "import pandas as pd\n",
    "df = pd.read_csv(\"https://cf-courses-data.s3.us.cloud-object-storage.appdomain.cloud/IBM-DS0321EN-SkillsNetwork/labs/module_2/data/Spacex.csv\")\n",
    "df.to_sql(\"SPACEXTBL\", con, if_exists='replace', index=False,method=\"multi\")"
   ]
  },
  {
   "cell_type": "markdown",
   "metadata": {},
   "source": [
    "**Note:This below code is added to remove blank rows from table**\n"
   ]
  },
  {
   "cell_type": "code",
   "execution_count": 8,
   "metadata": {},
   "outputs": [
    {
     "name": "stdout",
     "output_type": "stream",
     "text": [
      " * sqlite:///my_data1.db\n",
      "Done.\n"
     ]
    },
    {
     "data": {
      "text/plain": [
       "[]"
      ]
     },
     "execution_count": 8,
     "metadata": {},
     "output_type": "execute_result"
    }
   ],
   "source": [
    "#DROP THE TABLE IF EXISTS\n",
    "\n",
    "%sql DROP TABLE IF EXISTS SPACEXTABLE;"
   ]
  },
  {
   "cell_type": "code",
   "execution_count": 9,
   "metadata": {},
   "outputs": [
    {
     "name": "stdout",
     "output_type": "stream",
     "text": [
      " * sqlite:///my_data1.db\n",
      "Done.\n"
     ]
    },
    {
     "data": {
      "text/plain": [
       "[]"
      ]
     },
     "execution_count": 9,
     "metadata": {},
     "output_type": "execute_result"
    }
   ],
   "source": [
    "%sql create table SPACEXTABLE as select * from SPACEXTBL where Date is not null"
   ]
  },
  {
   "cell_type": "markdown",
   "metadata": {},
   "source": [
    "## Tasks\n",
    "\n",
    "Now write and execute SQL queries to solve the assignment tasks.\n",
    "\n",
    "**Note: If the column names are in mixed case enclose it in double quotes\n",
    "   For Example \"Landing_Outcome\"**\n",
    "\n",
    "### Task 1\n",
    "\n",
    "\n",
    "\n",
    "\n",
    "##### Display the names of the unique launch sites  in the space mission\n"
   ]
  },
  {
   "cell_type": "code",
   "execution_count": 18,
   "metadata": {},
   "outputs": [
    {
     "name": "stdout",
     "output_type": "stream",
     "text": [
      "   FlightNumber        Date BoosterVersion  PayloadMass Orbit    LaunchSite  \\\n",
      "0             1  2020-01-01           v1.0          500   LEO  CCAFS SLC 40   \n",
      "1             2  2020-01-02           v1.1          600   GTO   VAFB SLC 4E   \n",
      "2             3  2020-01-03           v1.1          700   LEO    KSC LC 39A   \n",
      "3             4  2020-01-04           v1.2          800   LEO  CCAFS SLC 40   \n",
      "4             5  2020-01-05           v1.2          900   MEO  CCAFS SLC 40   \n",
      "\n",
      "   Outcome  Flights  GridFins  Reused   Legs LandingPad  Block  ReusedCount  \\\n",
      "0  Success        1      True   False  False     OCISLY      1            0   \n",
      "1  Failure        1     False   False  False     OCISLY      2            1   \n",
      "2  Success        1      True    True   True       LZ-1      2            1   \n",
      "3  Success        1      True    True   True       LZ-1      3            1   \n",
      "4  Failure        1     False   False  False       LZ-1      3            2   \n",
      "\n",
      "  Serial  Longitude  Latitude  \n",
      "0  B0001   -80.5772   28.5613  \n",
      "1  B0002  -120.6108   34.6322  \n",
      "2  B0003   -80.5772   28.5613  \n",
      "3  B0004   -80.5772   28.5613  \n",
      "4  B0005   -80.5772   28.5613  \n"
     ]
    }
   ],
   "source": [
    "import pandas as pd\n",
    "\n",
    "# Define the necessary data lists if they are not defined yet\n",
    "FlightNumber = list(range(1, 11))  # Just an example, replace with your actual data length\n",
    "Date = ['2020-01-01', '2020-01-02', '2020-01-03', '2020-01-04', '2020-01-05',\n",
    "        '2020-01-06', '2020-01-07', '2020-01-08', '2020-01-09', '2020-01-10']  # Example dates\n",
    "BoosterVersion = ['v1.0', 'v1.1', 'v1.1', 'v1.2', 'v1.2', 'v1.2', 'v1.2', 'v2.0', 'v2.1', 'v2.1']\n",
    "PayloadMass = [500, 600, 700, 800, 900, 1000, 1100, 1200, 1300, 1400]  # Example payloads\n",
    "Orbit = ['LEO', 'GTO', 'LEO', 'LEO', 'MEO', 'GTO', 'GTO', 'LEO', 'LEO', 'GTO']\n",
    "LaunchSite = ['CCAFS SLC 40', 'VAFB SLC 4E', 'KSC LC 39A', 'CCAFS SLC 40', 'CCAFS SLC 40', 'KSC LC 39A', 'CCAFS SLC 40', 'KSC LC 39A', 'CCAFS SLC 40', 'KSC LC 39A']\n",
    "Outcome = ['Success', 'Failure', 'Success', 'Success', 'Failure', 'Success', 'Failure', 'Success', 'Success', 'Failure']\n",
    "Flights = [1, 1, 1, 1, 1, 1, 1, 1, 1, 1]\n",
    "GridFins = [True, False, True, True, False, True, False, True, True, False]\n",
    "Reused = [False, False, True, True, False, True, True, True, True, False]\n",
    "Legs = [False, False, True, True, False, True, True, True, True, False]\n",
    "LandingPad = ['OCISLY', 'OCISLY', 'LZ-1', 'LZ-1', 'LZ-1', 'OCISLY', 'OCISLY', 'OCISLY', 'OCISLY', 'OCISLY']\n",
    "Block = [1, 2, 2, 3, 3, 4, 4, 5, 5, 5]\n",
    "ReusedCount = [0, 1, 1, 1, 2, 2, 2, 3, 3, 3]\n",
    "Serial = ['B0001', 'B0002', 'B0003', 'B0004', 'B0005', 'B0006', 'B0007', 'B0008', 'B0009', 'B0010']\n",
    "Longitude = [-80.5772, -120.6108, -80.5772, -80.5772, -80.5772, -80.5772, -80.5772, -80.5772, -80.5772, -80.5772]\n",
    "Latitude = [28.5613, 34.6322, 28.5613, 28.5613, 28.5613, 28.5613, 28.5613, 28.5613, 28.5613, 28.5613]\n",
    "\n",
    "# Construct launch_dict\n",
    "launch_dict = {\n",
    "    'FlightNumber': FlightNumber,\n",
    "    'Date': Date,\n",
    "    'BoosterVersion': BoosterVersion,\n",
    "    'PayloadMass': PayloadMass,\n",
    "    'Orbit': Orbit,\n",
    "    'LaunchSite': LaunchSite,\n",
    "    'Outcome': Outcome,\n",
    "    'Flights': Flights,\n",
    "    'GridFins': GridFins,\n",
    "    'Reused': Reused,\n",
    "    'Legs': Legs,\n",
    "    'LandingPad': LandingPad,\n",
    "    'Block': Block,\n",
    "    'ReusedCount': ReusedCount,\n",
    "    'Serial': Serial,\n",
    "    'Longitude': Longitude,\n",
    "    'Latitude': Latitude\n",
    "}\n",
    "\n",
    "# Recreate the DataFrame from the dictionary\n",
    "launch_df = pd.DataFrame(launch_dict)\n",
    "\n",
    "# Display the first few rows\n",
    "print(launch_df.head())\n"
   ]
  },
  {
   "cell_type": "code",
   "execution_count": 19,
   "metadata": {},
   "outputs": [
    {
     "name": "stdout",
     "output_type": "stream",
     "text": [
      "  \"Launch site\"\n",
      "0   Launch site\n"
     ]
    }
   ],
   "source": [
    "import sqlite3\n",
    "import pandas as pd\n",
    "\n",
    "# Create a connection to the SQLite database\n",
    "conn = sqlite3.connect(\"my_data1.db\")  # Using an in-memory database for demonstration\n",
    "\n",
    "# Create a DataFrame from your data if it's not already in a SQLite table\n",
    "launch_df.to_sql('SpaceXLaunchData', conn, index=False, if_exists='replace')\n",
    "\n",
    "# Execute the SQL query\n",
    "query = \"\"\"\n",
    "SELECT DISTINCT \"Launch site\"\n",
    "FROM SpaceXLaunchData\n",
    "\"\"\"\n",
    "unique_launch_sites = pd.read_sql_query(query, conn)\n",
    "\n",
    "print(unique_launch_sites)\n"
   ]
  },
  {
   "cell_type": "markdown",
   "metadata": {},
   "source": [
    "\n",
    "### Task 2\n",
    "\n",
    "\n",
    "#####  Display 5 records where launch sites begin with the string 'CCA' \n"
   ]
  },
  {
   "cell_type": "code",
   "execution_count": 20,
   "metadata": {},
   "outputs": [
    {
     "name": "stdout",
     "output_type": "stream",
     "text": [
      "   FlightNumber        Date BoosterVersion  PayloadMass Orbit    LaunchSite  \\\n",
      "0             1  2020-01-01           v1.0          500   LEO  CCAFS SLC 40   \n",
      "3             4  2020-01-04           v1.2          800   LEO  CCAFS SLC 40   \n",
      "4             5  2020-01-05           v1.2          900   MEO  CCAFS SLC 40   \n",
      "6             7  2020-01-07           v1.2         1100   GTO  CCAFS SLC 40   \n",
      "8             9  2020-01-09           v2.1         1300   LEO  CCAFS SLC 40   \n",
      "\n",
      "   Outcome  Flights  GridFins  Reused   Legs LandingPad  Block  ReusedCount  \\\n",
      "0  Success        1      True   False  False     OCISLY      1            0   \n",
      "3  Success        1      True    True   True       LZ-1      3            1   \n",
      "4  Failure        1     False   False  False       LZ-1      3            2   \n",
      "6  Failure        1     False    True   True     OCISLY      4            2   \n",
      "8  Success        1      True    True   True     OCISLY      5            3   \n",
      "\n",
      "  Serial  Longitude  Latitude  \n",
      "0  B0001   -80.5772   28.5613  \n",
      "3  B0004   -80.5772   28.5613  \n",
      "4  B0005   -80.5772   28.5613  \n",
      "6  B0007   -80.5772   28.5613  \n",
      "8  B0009   -80.5772   28.5613  \n"
     ]
    }
   ],
   "source": [
    "# Filter and display 5 records where launch sites begin with 'CCA'\n",
    "cca_records = launch_df[launch_df['LaunchSite'].str.startswith('CCA')].head(5)\n",
    "\n",
    "print(cca_records)\n"
   ]
  },
  {
   "cell_type": "markdown",
   "metadata": {},
   "source": [
    "### Task 3\n",
    "\n",
    "\n",
    "\n",
    "\n",
    "##### Display the total payload mass carried by boosters launched by NASA (CRS)\n"
   ]
  },
  {
   "cell_type": "code",
   "execution_count": 22,
   "metadata": {},
   "outputs": [
    {
     "name": "stdout",
     "output_type": "stream",
     "text": [
      "Index(['FlightNumber', 'Date', 'BoosterVersion', 'PayloadMass', 'Orbit',\n",
      "       'LaunchSite', 'Outcome', 'Flights', 'GridFins', 'Reused', 'Legs',\n",
      "       'LandingPad', 'Block', 'ReusedCount', 'Serial', 'Longitude',\n",
      "       'Latitude'],\n",
      "      dtype='object')\n"
     ]
    }
   ],
   "source": [
    "print(launch_df.columns)"
   ]
  },
  {
   "cell_type": "code",
   "execution_count": 23,
   "metadata": {},
   "outputs": [
    {
     "name": "stdout",
     "output_type": "stream",
     "text": [
      "Total payload mass carried by NASA (CRS) boosters: 0 kg\n"
     ]
    }
   ],
   "source": [
    "# Filter the DataFrame for NASA (CRS) launches\n",
    "nasa_crs_launches = launch_df[launch_df['PayloadMass'] == 'NASA (CRS)']\n",
    "\n",
    "# Calculate the total payload mass\n",
    "total_payload_mass = nasa_crs_launches['PayloadMass'].sum()\n",
    "\n",
    "print(f\"Total payload mass carried by NASA (CRS) boosters: {total_payload_mass} kg\")\n"
   ]
  },
  {
   "cell_type": "markdown",
   "metadata": {},
   "source": [
    "### Task 4\n",
    "\n",
    "\n",
    "\n",
    "\n",
    "##### Display average payload mass carried by booster version F9 v1.1\n"
   ]
  },
  {
   "cell_type": "code",
   "execution_count": 24,
   "metadata": {},
   "outputs": [
    {
     "name": "stdout",
     "output_type": "stream",
     "text": [
      "Average payload mass carried by F9 v1.1: nan kg\n"
     ]
    }
   ],
   "source": [
    "# Filter the DataFrame for booster version F9 v1.1\n",
    "f9_v1_1_launches = launch_df[launch_df['BoosterVersion'] == 'F9 v1.1']\n",
    "\n",
    "# Calculate the average payload mass\n",
    "average_payload_mass = f9_v1_1_launches['PayloadMass'].mean()\n",
    "\n",
    "print(f\"Average payload mass carried by F9 v1.1: {average_payload_mass} kg\")\n"
   ]
  },
  {
   "cell_type": "markdown",
   "metadata": {},
   "source": [
    "### Task 5\n",
    "\n",
    "##### List the date when the first succesful landing outcome in ground pad was acheived.\n",
    "\n",
    "\n",
    "_Hint:Use min function_ \n"
   ]
  },
  {
   "cell_type": "code",
   "execution_count": 25,
   "metadata": {},
   "outputs": [
    {
     "name": "stdout",
     "output_type": "stream",
     "text": [
      "The first successful landing on a ground pad was on: 2020-01-01\n"
     ]
    }
   ],
   "source": [
    "# Filter for successful ground pad landings\n",
    "ground_pad_successes = launch_df[launch_df['Outcome'].str.contains('Success') & launch_df['LandingPad'].notnull()]\n",
    "\n",
    "# Find the date of the first successful ground pad landing\n",
    "first_success_date = ground_pad_successes['Date'].min()\n",
    "\n",
    "print(f\"The first successful landing on a ground pad was on: {first_success_date}\")\n"
   ]
  },
  {
   "cell_type": "markdown",
   "metadata": {},
   "source": [
    "### Task 6\n",
    "\n",
    "##### List the names of the boosters which have success in drone ship and have payload mass greater than 4000 but less than 6000\n"
   ]
  },
  {
   "cell_type": "code",
   "execution_count": 26,
   "metadata": {},
   "outputs": [
    {
     "name": "stdout",
     "output_type": "stream",
     "text": [
      "[]\n"
     ]
    }
   ],
   "source": [
    "# Filter for successful drone ship landings with payload mass between 4000 and 6000\n",
    "filtered_boosters = launch_df[\n",
    "    (launch_df['Outcome'].str.contains('drone ship') & launch_df['Outcome'].str.contains('Success')) &\n",
    "    (launch_df['PayloadMass'] > 4000) &\n",
    "    (launch_df['PayloadMass'] < 6000)\n",
    "]\n",
    "\n",
    "# List the names of the boosters\n",
    "booster_names = filtered_boosters['Serial'].unique()\n",
    "\n",
    "print(booster_names)\n"
   ]
  },
  {
   "cell_type": "markdown",
   "metadata": {},
   "source": [
    "### Task 7\n",
    "\n",
    "\n",
    "\n",
    "\n",
    "##### List the total number of successful and failure mission outcomes\n"
   ]
  },
  {
   "cell_type": "code",
   "execution_count": 27,
   "metadata": {},
   "outputs": [
    {
     "name": "stdout",
     "output_type": "stream",
     "text": [
      "Outcome\n",
      "Success    6\n",
      "Failure    4\n",
      "Name: count, dtype: int64\n"
     ]
    }
   ],
   "source": [
    "# Calculate the total number of successful and failure mission outcomes\n",
    "mission_outcomes = launch_df['Outcome'].value_counts()\n",
    "\n",
    "print(mission_outcomes)\n"
   ]
  },
  {
   "cell_type": "markdown",
   "metadata": {},
   "source": [
    "### Task 8\n",
    "\n",
    "\n",
    "\n",
    "##### List the   names of the booster_versions which have carried the maximum payload mass. Use a subquery\n"
   ]
  },
  {
   "cell_type": "code",
   "execution_count": 30,
   "metadata": {},
   "outputs": [
    {
     "name": "stdout",
     "output_type": "stream",
     "text": [
      "  BoosterVersion\n",
      "0           v2.1\n"
     ]
    }
   ],
   "source": [
    "import sqlite3\n",
    "\n",
    "# Create a connection to the SQLite database\n",
    "conn = sqlite3.connect(':memory:')  # Using an in-memory database for demonstration\n",
    "\n",
    "# Create a table from the DataFrame\n",
    "launch_df.to_sql('SpaceXLaunchData', conn, index=False, if_exists='replace')\n",
    "\n",
    "# SQL query to find the booster versions with maximum payload mass\n",
    "query = \"\"\"\n",
    "SELECT \"BoosterVersion\"\n",
    "FROM SpaceXLaunchData\n",
    "WHERE \"PayloadMass\" = (\n",
    "    SELECT MAX(\"PayloadMass\")\n",
    "    FROM SpaceXLaunchData\n",
    ")\n",
    "\"\"\"\n",
    "\n",
    "max_payload_boosters = pd.read_sql_query(query, conn)\n",
    "\n",
    "print(max_payload_boosters)\n"
   ]
  },
  {
   "cell_type": "markdown",
   "metadata": {},
   "source": [
    "### Task 9\n",
    "\n",
    "\n",
    "##### List the records which will display the month names, failure landing_outcomes in drone ship ,booster versions, launch_site for the months in year 2015.\n",
    "\n",
    "**Note: SQLLite does not support monthnames. So you need to use  substr(Date, 6,2) as month to get the months and substr(Date,0,5)='2015' for year.**\n"
   ]
  },
  {
   "cell_type": "code",
   "execution_count": 31,
   "metadata": {},
   "outputs": [
    {
     "name": "stdout",
     "output_type": "stream",
     "text": [
      "Empty DataFrame\n",
      "Columns: [Month, Outcome, BoosterVersion, LaunchSite]\n",
      "Index: []\n"
     ]
    }
   ],
   "source": [
    "import sqlite3\n",
    "\n",
    "# Create a connection to the SQLite database\n",
    "conn = sqlite3.connect(':memory:')  # Using an in-memory database for demonstration\n",
    "\n",
    "# Create a table from the DataFrame\n",
    "launch_df.to_sql('SpaceXLaunchData', conn, index=False, if_exists='replace')\n",
    "\n",
    "# SQL query to list the required records\n",
    "query = \"\"\"\n",
    "SELECT \n",
    "    CASE substr(Date, 6, 2)\n",
    "        WHEN '01' THEN 'January'\n",
    "        WHEN '02' THEN 'February'\n",
    "        WHEN '03' THEN 'March'\n",
    "        WHEN '04' THEN 'April'\n",
    "        WHEN '05' THEN 'May'\n",
    "        WHEN '06' THEN 'June'\n",
    "        WHEN '07' THEN 'July'\n",
    "        WHEN '08' THEN 'August'\n",
    "        WHEN '09' THEN 'September'\n",
    "        WHEN '10' THEN 'October'\n",
    "        WHEN '11' THEN 'November'\n",
    "        WHEN '12' THEN 'December'\n",
    "    END AS Month,\n",
    "    \"Outcome\",\n",
    "    \"BoosterVersion\",\n",
    "    \"LaunchSite\"\n",
    "FROM SpaceXLaunchData\n",
    "WHERE \"Outcome\" LIKE '%drone ship%' AND \"Outcome\" LIKE '%Failure%' AND substr(Date, 0, 5) = '2015'\n",
    "\"\"\"\n",
    "\n",
    "result = pd.read_sql_query(query, conn)\n",
    "\n",
    "print(result)\n"
   ]
  },
  {
   "cell_type": "markdown",
   "metadata": {},
   "source": [
    "### Task 10\n",
    "\n",
    "\n",
    "\n",
    "\n",
    "##### Rank the count of landing outcomes (such as Failure (drone ship) or Success (ground pad)) between the date 2010-06-04 and 2017-03-20, in descending order.\n"
   ]
  },
  {
   "cell_type": "code",
   "execution_count": 32,
   "metadata": {},
   "outputs": [
    {
     "name": "stdout",
     "output_type": "stream",
     "text": [
      "Empty DataFrame\n",
      "Columns: [Outcome, count]\n",
      "Index: []\n"
     ]
    }
   ],
   "source": [
    "import sqlite3\n",
    "\n",
    "# Create a connection to the SQLite database\n",
    "conn = sqlite3.connect(':memory:')  # Using an in-memory database for demonstration\n",
    "\n",
    "# Create a table from the DataFrame\n",
    "launch_df.to_sql('SpaceXLaunchData', conn, index=False, if_exists='replace')\n",
    "\n",
    "# SQL query to rank the landing outcomes\n",
    "query = \"\"\"\n",
    "SELECT \"Outcome\", COUNT(*) as count\n",
    "FROM SpaceXLaunchData\n",
    "WHERE DATE(Date) BETWEEN '2010-06-04' AND '2017-03-20'\n",
    "GROUP BY \"Outcome\"\n",
    "ORDER BY count DESC\n",
    "\"\"\"\n",
    "\n",
    "landing_outcomes_ranked = pd.read_sql_query(query, conn)\n",
    "\n",
    "print(landing_outcomes_ranked)\n"
   ]
  },
  {
   "cell_type": "markdown",
   "metadata": {},
   "source": [
    "### Reference Links\n",
    "\n",
    "* <a href =\"https://cf-courses-data.s3.us.cloud-object-storage.appdomain.cloud/IBMDeveloperSkillsNetwork-DB0201EN-SkillsNetwork/labs/Labs_Coursera_V5/labs/Lab%20-%20String%20Patterns%20-%20Sorting%20-%20Grouping/instructional-labs.md.html?origin=www.coursera.org\">Hands-on Lab : String Patterns, Sorting and Grouping</a>  \n",
    "\n",
    "*  <a  href=\"https://cf-courses-data.s3.us.cloud-object-storage.appdomain.cloud/IBMDeveloperSkillsNetwork-DB0201EN-SkillsNetwork/labs/Labs_Coursera_V5/labs/Lab%20-%20Built-in%20functions%20/Hands-on_Lab__Built-in_Functions.md.html?origin=www.coursera.org\">Hands-on Lab: Built-in functions</a>\n",
    "\n",
    "*  <a  href=\"https://cf-courses-data.s3.us.cloud-object-storage.appdomain.cloud/IBMDeveloperSkillsNetwork-DB0201EN-SkillsNetwork/labs/Labs_Coursera_V5/labs/Lab%20-%20Sub-queries%20and%20Nested%20SELECTs%20/instructional-labs.md.html?origin=www.coursera.org\">Hands-on Lab : Sub-queries and Nested SELECT Statements</a>\n",
    "\n",
    "*   <a href=\"https://cf-courses-data.s3.us.cloud-object-storage.appdomain.cloud/IBMDeveloperSkillsNetwork-DB0201EN-SkillsNetwork/labs/Module%205/DB0201EN-Week3-1-3-SQLmagic.ipynb\">Hands-on Tutorial: Accessing Databases with SQL magic</a>\n",
    "\n",
    "*  <a href= \"https://cf-courses-data.s3.us.cloud-object-storage.appdomain.cloud/IBMDeveloperSkillsNetwork-DB0201EN-SkillsNetwork/labs/Module%205/DB0201EN-Week3-1-4-Analyzing.ipynb\">Hands-on Lab: Analyzing a real World Data Set</a>\n",
    "\n",
    "\n"
   ]
  },
  {
   "cell_type": "markdown",
   "metadata": {},
   "source": [
    "## Author(s)\n",
    "\n",
    "<h4> Lakshmi Holla </h4>\n"
   ]
  },
  {
   "cell_type": "markdown",
   "metadata": {},
   "source": [
    "## Other Contributors\n",
    "\n",
    "<h4> Rav Ahuja </h4>\n"
   ]
  },
  {
   "cell_type": "markdown",
   "metadata": {},
   "source": [
    "<!--\n",
    "## Change log\n",
    "| Date | Version | Changed by | Change Description |\n",
    "|------|--------|--------|---------|\n",
    "| 2024-07-10 | 1.1 |Anita Verma | Changed Version|\n",
    "| 2021-07-09 | 0.2 |Lakshmi Holla | Changes made in magic sql|\n",
    "| 2021-05-20 | 0.1 |Lakshmi Holla | Created Initial Version |\n",
    "-->\n"
   ]
  },
  {
   "cell_type": "markdown",
   "metadata": {},
   "source": [
    "## <h3 align=\"center\"> © IBM Corporation 2021. All rights reserved. <h3/>\n"
   ]
  }
 ],
 "metadata": {
  "kernelspec": {
   "display_name": "Python 3 (ipykernel)",
   "language": "python",
   "name": "python3"
  },
  "language_info": {
   "codemirror_mode": {
    "name": "ipython",
    "version": 3
   },
   "file_extension": ".py",
   "mimetype": "text/x-python",
   "name": "python",
   "nbconvert_exporter": "python",
   "pygments_lexer": "ipython3",
   "version": "3.11.9"
  },
  "prev_pub_hash": "a5fa84525a820d08c9ec9c9cccf7d39455745aa2be6c2efdd18931346283d2d9"
 },
 "nbformat": 4,
 "nbformat_minor": 4
}
